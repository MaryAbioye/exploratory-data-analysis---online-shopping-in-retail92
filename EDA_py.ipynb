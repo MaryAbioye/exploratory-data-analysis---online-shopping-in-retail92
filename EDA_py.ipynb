{
 "cells": [
  {
   "cell_type": "code",
   "execution_count": 1,
   "id": "e3c5da61",
   "metadata": {},
   "outputs": [
    {
     "name": "stdout",
     "output_type": "stream",
     "text": [
      "The shape of the DataFrame is: (12330, 17)\n",
      "<class 'pandas.core.frame.DataFrame'>\n",
      "RangeIndex: 12330 entries, 0 to 12329\n",
      "Data columns (total 17 columns):\n",
      " #   Column                    Non-Null Count  Dtype  \n",
      "---  ------                    --------------  -----  \n",
      " 0   administrative            11760 non-null  float64\n",
      " 1   administrative_duration   11418 non-null  float64\n",
      " 2   informational             12330 non-null  int64  \n",
      " 3   informational_duration    11994 non-null  float64\n",
      " 4   product_related           11751 non-null  float64\n",
      " 5   product_related_duration  12129 non-null  float64\n",
      " 6   bounce_rates              12330 non-null  float64\n",
      " 7   exit_rates                12330 non-null  float64\n",
      " 8   page_values               12330 non-null  float64\n",
      " 9   month                     12330 non-null  object \n",
      " 10  operating_systems         12319 non-null  object \n",
      " 11  browser                   12330 non-null  object \n",
      " 12  region                    12330 non-null  object \n",
      " 13  traffic_type              12330 non-null  object \n",
      " 14  visitor_type              12330 non-null  object \n",
      " 15  weekend                   12330 non-null  bool   \n",
      " 16  revenue                   12330 non-null  bool   \n",
      "dtypes: bool(2), float64(8), int64(1), object(6)\n",
      "memory usage: 1.4+ MB\n"
     ]
    }
   ],
   "source": [
    "import pandas as pd\n",
    "# Loading the data\n",
    "customer_activity_df = pd.read_csv('customer_activity_data.csv')\n",
    "print(f\"The shape of the DataFrame is: {customer_activity_df.shape}\")\n",
    "customer_activity_df.head()\n",
    "\n",
    "customer_activity_df.info()\n",
    "\n"
   ]
  },
  {
   "cell_type": "code",
   "execution_count": 7,
   "id": "84de3e3f",
   "metadata": {},
   "outputs": [
    {
     "ename": "ModuleNotFoundError",
     "evalue": "No module named 'transformations'",
     "output_type": "error",
     "traceback": [
      "\u001b[1;31m---------------------------------------------------------------------------\u001b[0m",
      "\u001b[1;31mModuleNotFoundError\u001b[0m                       Traceback (most recent call last)",
      "\u001b[1;32m~\\AppData\\Local\\Temp\\ipykernel_5148\\2728304817.py\u001b[0m in \u001b[0;36m<module>\u001b[1;34m\u001b[0m\n\u001b[1;32m----> 1\u001b[1;33m \u001b[1;32mfrom\u001b[0m \u001b[0mtransformations\u001b[0m \u001b[1;32mimport\u001b[0m \u001b[0mDataTransform\u001b[0m\u001b[1;33m\u001b[0m\u001b[1;33m\u001b[0m\u001b[0m\n\u001b[0m",
      "\u001b[1;31mModuleNotFoundError\u001b[0m: No module named 'transformations'"
     ]
    }
   ],
   "source": [
    "from transformations import DataTransform"
   ]
  },
  {
   "cell_type": "code",
   "execution_count": 6,
   "id": "69ad0d86",
   "metadata": {},
   "outputs": [
    {
     "ename": "ModuleNotFoundError",
     "evalue": "No module named 'transformations'",
     "output_type": "error",
     "traceback": [
      "\u001b[1;31m---------------------------------------------------------------------------\u001b[0m",
      "\u001b[1;31mModuleNotFoundError\u001b[0m                       Traceback (most recent call last)",
      "\u001b[1;32m~\\AppData\\Local\\Temp\\ipykernel_5148\\2989248665.py\u001b[0m in \u001b[0;36m<module>\u001b[1;34m\u001b[0m\n\u001b[1;32m----> 1\u001b[1;33m \u001b[1;32mfrom\u001b[0m \u001b[0mtransformations\u001b[0m \u001b[1;32mimport\u001b[0m \u001b[0mDataTransform\u001b[0m\u001b[1;33m\u001b[0m\u001b[1;33m\u001b[0m\u001b[0m\n\u001b[0m\u001b[0;32m      2\u001b[0m \u001b[1;33m\u001b[0m\u001b[0m\n\u001b[0;32m      3\u001b[0m \u001b[0mtransformer\u001b[0m \u001b[1;33m=\u001b[0m \u001b[0mDataTransformation\u001b[0m\u001b[1;33m(\u001b[0m\u001b[0mcustomer_activity_df\u001b[0m\u001b[1;33m)\u001b[0m\u001b[1;33m\u001b[0m\u001b[1;33m\u001b[0m\u001b[0m\n\u001b[0;32m      4\u001b[0m \u001b[1;33m\u001b[0m\u001b[0m\n\u001b[0;32m      5\u001b[0m \u001b[0mtransformer\u001b[0m\u001b[1;33m.\u001b[0m\u001b[0mconvert_to_datetime\u001b[0m\u001b[1;33m(\u001b[0m\u001b[1;34m\"date_column\"\u001b[0m\u001b[1;33m)\u001b[0m\u001b[1;33m\u001b[0m\u001b[1;33m\u001b[0m\u001b[0m\n",
      "\u001b[1;31mModuleNotFoundError\u001b[0m: No module named 'transformations'"
     ]
    }
   ],
   "source": [
    "customer_activity_df = pd.read_csv('customer_activity_data.csv')\n",
    "    df = pd.DataFrame(customer_activity_df)\n",
    "\n",
    "    transformer = DataTransformation(df)\n",
    "\n",
    "    transformer.convert_to_datetime(\"date_column\")\n",
    "    transformer.convert_to_numeric(\"numeric_column\")\n",
    "    transformer.strip_symbols(\"text_column\", symbols=[\"$\"])\n",
    "    transformer.convert_to_categorical(\"category_column\")\n",
    "\n",
    "    transformer.summary()\n",
    "    df.info()"
   ]
  },
  {
   "cell_type": "code",
   "execution_count": null,
   "id": "4448f3dd",
   "metadata": {},
   "outputs": [],
   "source": []
  }
 ],
 "metadata": {
  "kernelspec": {
   "display_name": "Python 3 (ipykernel)",
   "language": "python",
   "name": "python3"
  },
  "language_info": {
   "codemirror_mode": {
    "name": "ipython",
    "version": 3
   },
   "file_extension": ".py",
   "mimetype": "text/x-python",
   "name": "python",
   "nbconvert_exporter": "python",
   "pygments_lexer": "ipython3",
   "version": "3.9.13"
  }
 },
 "nbformat": 4,
 "nbformat_minor": 5
}
